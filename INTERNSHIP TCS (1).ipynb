{
 "cells": [
  {
   "cell_type": "code",
   "execution_count": 44,
   "id": "c2eb9a86",
   "metadata": {},
   "outputs": [],
   "source": [
    "#import all the relevant libraries\n",
    "import pandas as pd\n",
    "import numpy as np\n",
    "import matplotlib.pyplot as plt\n",
    "import seaborn as sns\n",
    "from scipy import stats"
   ]
  },
  {
   "cell_type": "code",
   "execution_count": 45,
   "id": "9c60426a",
   "metadata": {},
   "outputs": [],
   "source": [
    "#load the dataset into a variable named data\n",
    "data=pd.read_csv(\"DRUG BATCH SIDE EFFECTS DATASET 0.1.csv\")"
   ]
  },
  {
   "cell_type": "code",
   "execution_count": 46,
   "id": "fea0cdde",
   "metadata": {},
   "outputs": [
    {
     "data": {
      "text/html": [
       "<div>\n",
       "<style scoped>\n",
       "    .dataframe tbody tr th:only-of-type {\n",
       "        vertical-align: middle;\n",
       "    }\n",
       "\n",
       "    .dataframe tbody tr th {\n",
       "        vertical-align: top;\n",
       "    }\n",
       "\n",
       "    .dataframe thead th {\n",
       "        text-align: right;\n",
       "    }\n",
       "</style>\n",
       "<table border=\"1\" class=\"dataframe\">\n",
       "  <thead>\n",
       "    <tr style=\"text-align: right;\">\n",
       "      <th></th>\n",
       "      <th>NAME</th>\n",
       "      <th>GENDER</th>\n",
       "      <th>DRUG NAME</th>\n",
       "      <th>AGE</th>\n",
       "      <th>RACE</th>\n",
       "      <th>SIDE EFFECTS</th>\n",
       "    </tr>\n",
       "  </thead>\n",
       "  <tbody>\n",
       "    <tr>\n",
       "      <th>0</th>\n",
       "      <td>Aaban</td>\n",
       "      <td>M</td>\n",
       "      <td>topamax</td>\n",
       "      <td>41.0</td>\n",
       "      <td>White</td>\n",
       "      <td>Mild Side Effects</td>\n",
       "    </tr>\n",
       "    <tr>\n",
       "      <th>1</th>\n",
       "      <td>Aaban</td>\n",
       "      <td>M</td>\n",
       "      <td>zocor</td>\n",
       "      <td>53.0</td>\n",
       "      <td>Hispanic, White</td>\n",
       "      <td>Extremely Severe Side Effects</td>\n",
       "    </tr>\n",
       "    <tr>\n",
       "      <th>2</th>\n",
       "      <td>Aabha</td>\n",
       "      <td>F</td>\n",
       "      <td>tazorac</td>\n",
       "      <td>31.0</td>\n",
       "      <td>White</td>\n",
       "      <td>Mild Side Effects</td>\n",
       "    </tr>\n",
       "    <tr>\n",
       "      <th>3</th>\n",
       "      <td>Aabha</td>\n",
       "      <td>F</td>\n",
       "      <td>voltaren</td>\n",
       "      <td>44.0</td>\n",
       "      <td>White</td>\n",
       "      <td>Severe Side Effects</td>\n",
       "    </tr>\n",
       "    <tr>\n",
       "      <th>4</th>\n",
       "      <td>Aabid</td>\n",
       "      <td>M</td>\n",
       "      <td>tramadol</td>\n",
       "      <td>24.0</td>\n",
       "      <td>White</td>\n",
       "      <td>No Side Effects</td>\n",
       "    </tr>\n",
       "  </tbody>\n",
       "</table>\n",
       "</div>"
      ],
      "text/plain": [
       "    NAME GENDER DRUG NAME   AGE             RACE  \\\n",
       "0  Aaban      M   topamax  41.0            White   \n",
       "1  Aaban      M     zocor  53.0  Hispanic, White   \n",
       "2  Aabha      F   tazorac  31.0            White   \n",
       "3  Aabha      F  voltaren  44.0            White   \n",
       "4  Aabid      M  tramadol  24.0            White   \n",
       "\n",
       "                    SIDE EFFECTS  \n",
       "0              Mild Side Effects  \n",
       "1  Extremely Severe Side Effects  \n",
       "2              Mild Side Effects  \n",
       "3            Severe Side Effects  \n",
       "4                No Side Effects  "
      ]
     },
     "execution_count": 46,
     "metadata": {},
     "output_type": "execute_result"
    }
   ],
   "source": [
    "#checking the data head\n",
    "data.head()"
   ]
  },
  {
   "cell_type": "code",
   "execution_count": 47,
   "id": "5e6e5e23",
   "metadata": {},
   "outputs": [
    {
     "name": "stdout",
     "output_type": "stream",
     "text": [
      "<class 'pandas.core.frame.DataFrame'>\n",
      "RangeIndex: 400000 entries, 0 to 399999\n",
      "Data columns (total 6 columns):\n",
      " #   Column        Non-Null Count   Dtype  \n",
      "---  ------        --------------   -----  \n",
      " 0   NAME          400000 non-null  object \n",
      " 1   GENDER        400000 non-null  object \n",
      " 2   DRUG NAME     400000 non-null  object \n",
      " 3   AGE           399980 non-null  float64\n",
      " 4   RACE          400000 non-null  object \n",
      " 5   SIDE EFFECTS  400000 non-null  object \n",
      "dtypes: float64(1), object(5)\n",
      "memory usage: 18.3+ MB\n"
     ]
    }
   ],
   "source": [
    "#checking the data info\n",
    "data.info()"
   ]
  },
  {
   "cell_type": "code",
   "execution_count": 48,
   "id": "5aef8639",
   "metadata": {},
   "outputs": [
    {
     "data": {
      "text/plain": [
       "(400000, 6)"
      ]
     },
     "execution_count": 48,
     "metadata": {},
     "output_type": "execute_result"
    }
   ],
   "source": [
    "#checking the data shape\n",
    "data.shape"
   ]
  },
  {
   "cell_type": "code",
   "execution_count": 49,
   "id": "655d6168",
   "metadata": {},
   "outputs": [
    {
     "data": {
      "text/html": [
       "<div>\n",
       "<style scoped>\n",
       "    .dataframe tbody tr th:only-of-type {\n",
       "        vertical-align: middle;\n",
       "    }\n",
       "\n",
       "    .dataframe tbody tr th {\n",
       "        vertical-align: top;\n",
       "    }\n",
       "\n",
       "    .dataframe thead th {\n",
       "        text-align: right;\n",
       "    }\n",
       "</style>\n",
       "<table border=\"1\" class=\"dataframe\">\n",
       "  <thead>\n",
       "    <tr style=\"text-align: right;\">\n",
       "      <th></th>\n",
       "      <th>AGE</th>\n",
       "    </tr>\n",
       "  </thead>\n",
       "  <tbody>\n",
       "    <tr>\n",
       "      <th>count</th>\n",
       "      <td>399980.000000</td>\n",
       "    </tr>\n",
       "    <tr>\n",
       "      <th>mean</th>\n",
       "      <td>41.466513</td>\n",
       "    </tr>\n",
       "    <tr>\n",
       "      <th>std</th>\n",
       "      <td>12.550773</td>\n",
       "    </tr>\n",
       "    <tr>\n",
       "      <th>min</th>\n",
       "      <td>14.000000</td>\n",
       "    </tr>\n",
       "    <tr>\n",
       "      <th>25%</th>\n",
       "      <td>31.000000</td>\n",
       "    </tr>\n",
       "    <tr>\n",
       "      <th>50%</th>\n",
       "      <td>41.000000</td>\n",
       "    </tr>\n",
       "    <tr>\n",
       "      <th>75%</th>\n",
       "      <td>51.000000</td>\n",
       "    </tr>\n",
       "    <tr>\n",
       "      <th>max</th>\n",
       "      <td>600.000000</td>\n",
       "    </tr>\n",
       "  </tbody>\n",
       "</table>\n",
       "</div>"
      ],
      "text/plain": [
       "                 AGE\n",
       "count  399980.000000\n",
       "mean       41.466513\n",
       "std        12.550773\n",
       "min        14.000000\n",
       "25%        31.000000\n",
       "50%        41.000000\n",
       "75%        51.000000\n",
       "max       600.000000"
      ]
     },
     "execution_count": 49,
     "metadata": {},
     "output_type": "execute_result"
    }
   ],
   "source": [
    "#checking the data describe\n",
    "data.describe()"
   ]
  },
  {
   "cell_type": "code",
   "execution_count": 50,
   "id": "366a4413",
   "metadata": {},
   "outputs": [
    {
     "data": {
      "text/plain": [
       "NAME             0\n",
       "GENDER           0\n",
       "DRUG NAME        0\n",
       "AGE             20\n",
       "RACE             0\n",
       "SIDE EFFECTS     0\n",
       "dtype: int64"
      ]
     },
     "execution_count": 50,
     "metadata": {},
     "output_type": "execute_result"
    }
   ],
   "source": [
    "#checking is there any null values\n",
    "data.isna().sum()"
   ]
  },
  {
   "cell_type": "markdown",
   "id": "beb7ea3f",
   "metadata": {},
   "source": [
    "# Inference\n",
    "There are missing values in the AGE."
   ]
  },
  {
   "cell_type": "markdown",
   "id": "0a4edce0",
   "metadata": {},
   "source": [
    "# EDA (Exploratory data analysis)"
   ]
  },
  {
   "cell_type": "code",
   "execution_count": 51,
   "id": "dc50fe20",
   "metadata": {},
   "outputs": [
    {
     "data": {
      "text/plain": [
       "paxil         6269\n",
       "lamictal      6045\n",
       "nexium        6029\n",
       "levoxyl       5958\n",
       "ambien        5692\n",
       "              ... \n",
       "lantus           8\n",
       "periostat        8\n",
       "proair-hfa       8\n",
       "bactrim-ds       8\n",
       "arimidex         8\n",
       "Name: DRUG NAME, Length: 502, dtype: int64"
      ]
     },
     "execution_count": 51,
     "metadata": {},
     "output_type": "execute_result"
    }
   ],
   "source": [
    "#Checking value counts of \"DRUG NAME\"\n",
    "data[\"DRUG NAME\"].value_counts()"
   ]
  },
  {
   "cell_type": "code",
   "execution_count": 52,
   "id": "144b9907",
   "metadata": {},
   "outputs": [
    {
     "data": {
      "text/plain": [
       "F    237751\n",
       "M    162249\n",
       "Name: GENDER, dtype: int64"
      ]
     },
     "execution_count": 52,
     "metadata": {},
     "output_type": "execute_result"
    }
   ],
   "source": [
    "#Checking value counts of \"GENDER\"\n",
    "data[\"GENDER\"].value_counts()"
   ]
  },
  {
   "cell_type": "code",
   "execution_count": 53,
   "id": "35f1df1d",
   "metadata": {},
   "outputs": [
    {
     "data": {
      "text/plain": [
       "(array([0, 1]), [Text(0, 0, 'M'), Text(1, 0, 'F')])"
      ]
     },
     "execution_count": 53,
     "metadata": {},
     "output_type": "execute_result"
    },
    {
     "data": {
      "image/png": "[encoded data removed]",
      "text/plain": [
       "<Figure size 432x432 with 1 Axes>"
      ]
     },
     "metadata": {},
     "output_type": "display_data"
    }
   ],
   "source": [
    "data[\"GENDER\"].value_counts()\n",
    "plt.figure(figsize=(6,6))\n",
    "sns.countplot(x='GENDER',hue='GENDER',data=data,palette=\"PuBuGn_r\")\n",
    "plt.title(\"GENDER COUNT\",fontsize=18 )\n",
    "plt.xticks(rotation=45)"
   ]
  },
  {
   "cell_type": "markdown",
   "id": "6d096e5f",
   "metadata": {},
   "source": [
    "# Inference\n",
    "from the Gender count we can see that highest counts are Females which are much more than males in this dataset"
   ]
  },
  {
   "cell_type": "code",
   "execution_count": 54,
   "id": "5d32bf0d",
   "metadata": {},
   "outputs": [
    {
     "data": {
      "text/plain": [
       "White              314074\n",
       "Hispanic, White     44072\n",
       "Black               35845\n",
       "Unknown              3046\n",
       "Hispanic, Black      1673\n",
       "Other                1010\n",
       "Asian, Other          168\n",
       "Asian Indian          104\n",
       "Chinese                 8\n",
       "Name: RACE, dtype: int64"
      ]
     },
     "execution_count": 54,
     "metadata": {},
     "output_type": "execute_result"
    }
   ],
   "source": [
    "#Checking value counts of \"RACE\"\n",
    "data[\"RACE\"].value_counts()"
   ]
  },
  {
   "cell_type": "code",
   "execution_count": 55,
   "id": "05aa5c03",
   "metadata": {},
   "outputs": [
    {
     "data": {
      "text/plain": [
       "(array([0, 1, 2, 3, 4, 5, 6, 7, 8]),\n",
       " [Text(0, 0, 'White'),\n",
       "  Text(1, 0, 'Hispanic, White'),\n",
       "  Text(2, 0, 'Unknown'),\n",
       "  Text(3, 0, 'Black'),\n",
       "  Text(4, 0, 'Other'),\n",
       "  Text(5, 0, 'Hispanic, Black'),\n",
       "  Text(6, 0, 'Asian, Other'),\n",
       "  Text(7, 0, 'Asian Indian'),\n",
       "  Text(8, 0, 'Chinese')])"
      ]
     },
     "execution_count": 55,
     "metadata": {},
     "output_type": "execute_result"
    },
    {
     "data": {
      "image/png": "[encoded data removed]",
      "text/plain": [
       "<Figure size 720x432 with 1 Axes>"
      ]
     },
     "metadata": {},
     "output_type": "display_data"
    }
   ],
   "source": [
    "data[\"RACE\"].value_counts()\n",
    "plt.figure(figsize=(10,6))\n",
    "sns.countplot(x='RACE',hue='RACE',data=data)\n",
    "plt.title(\"RACE COUNT\",fontsize=18 )\n",
    "plt.xticks(rotation=45)"
   ]
  },
  {
   "cell_type": "markdown",
   "id": "ea131e0f",
   "metadata": {},
   "source": [
    "# Inference\n",
    "According to the value counts of \"RACE\", white categorized peoples are taken the most drugs consuming for their treatments and the chinese are the least."
   ]
  },
  {
   "cell_type": "code",
   "execution_count": 56,
   "id": "1b4439d7",
   "metadata": {},
   "outputs": [
    {
     "data": {
      "text/plain": [
       "array(['White', 'Hispanic, White', 'Unknown', 'Black', 'Other',\n",
       "       'Hispanic, Black', 'Asian, Other', 'Asian Indian', 'Chinese'],\n",
       "      dtype=object)"
      ]
     },
     "execution_count": 56,
     "metadata": {},
     "output_type": "execute_result"
    }
   ],
   "source": [
    "#Checking Unique values of \"RACE\"\n",
    "data[\"RACE\"].unique()"
   ]
  },
  {
   "cell_type": "code",
   "execution_count": 57,
   "id": "f6c479ec",
   "metadata": {},
   "outputs": [
    {
     "data": {
      "text/plain": [
       "array(['topamax', 'zocor', 'tazorac', 'voltaren', 'tramadol', 'valtrex',\n",
       "       'levoxyl', 'imitrex', 'seroquel', 'minocycline', 'proscar',\n",
       "       'keflex', 'cataflam', 'zyrtec', 'lexapro', 'spironolactone',\n",
       "       'claripel-cream', 'wellbutrin-sr', 'prozac', 'wellbutrin-xl',\n",
       "       'citalopram', 'baclofen', 'concerta', 'singulair', 'angeliq',\n",
       "       'yasmin', 'cialis', 'lunesta', 'cymbalta', 'methotrexate',\n",
       "       'lamictal', 'evoclin', 'actonel', 'protonix', 'premarin',\n",
       "       'provigil', 'protopic', 'prednisone', 'diazepam', 'ultram',\n",
       "       'albuterol', 'zovirax', 'asacol', 'zegerid', 'halcion', 'differin',\n",
       "       'nexium', 'phenergan', 'propecia', 'enalapril', 'chantix', 'avita',\n",
       "       'synthroid', 'renova', 'buspar', 'retin-a-micro', 'climara',\n",
       "       'estrace', 'klonopin', 'ambien', 'prevacid', 'lipitor',\n",
       "       'wellbutrin', 'seasonique', 'paxil', 'nortriptyline', 'amoxil',\n",
       "       'nitrofurantoin', 'tamiflu', 'noroxin', 'acyclovir', 'aromasin',\n",
       "       'celebrex', 'claritin', 'ortho-tri-cyclen', 'metrogel', 'xanax',\n",
       "       'restoril', 'frova', 'tri-luma', 'zmax', 'qvar', 'elavil',\n",
       "       'atarax', 'adderall', 'aricept', 'lorazepam', 'vyvanse', 'flonase',\n",
       "       'mevacor', 'accutane', 'panixine-disperdose', 'tenormin',\n",
       "       'augmentin', 'abilify', 'trazodone', 'seasonale', 'neurontin',\n",
       "       'nuvaring', 'nasacort', 'minoxidil', 'oxycodone', 'aldactone',\n",
       "       'diclofenac', 'armour-thyroid', 'avage', 'avelox', 'ditropan',\n",
       "       'miralax', 'fexofenadine', 'clarinex', 'fosamax', 'lortab',\n",
       "       'effexor-xr', 'metformin', 'prometrium', 'erythromycin',\n",
       "       'xanax-xr', 'remicade', 'prempro', 'darvocet-n', 'ativan',\n",
       "       'lumigan', 'norvasc', 'lamisil', 'clonazepam', 'symbyax', 'vaniqa',\n",
       "       'ultracet', 'sotret', 'retin-a', 'effexor', 'zyrtec-d', 'celexa',\n",
       "       'sulfasalazine', 'zyprexa', 'sonata', 'isoniazid', 'lyrica',\n",
       "       'prilosec', 'byetta', 'crestor', 'maxalt', 'enbrel', 'femring',\n",
       "       'nolvadex', 'cleocin', 'copaxone', 'zithromax', 'estratest',\n",
       "       'naltrexone', 'ampicillin', 'omnitrope', 'oracea', 'prinivil',\n",
       "       'adipex-p', 'mirena', 'strattera', 'proquin-xr', 'vytorin',\n",
       "       'percocet', 'depo-provera', 'humira', 'tetracycline', 'zoloft',\n",
       "       'ambien-cr', 'actos', 'niaspan', 'xyrem', 'valium', 'duac',\n",
       "       'doxycycline', 'pristiq', 'pravachol', 'trimethoprim', 'estrasorb',\n",
       "       'coumadin', 'zyban', 'risperdal', 'levora', 'pentasa', 'nasonex',\n",
       "       'zomig', 'flexeril', 'klaron', 'tussionex', 'metronidazole',\n",
       "       'naproxen', 'cipro', 'allegra-d', 'botox', 'advair-hfa',\n",
       "       'symbicort', 'triaz', 'arava', 'vicodin', 'sarafem', 'meridia',\n",
       "       'aygestin', 'selegiline', 'xenical', 'atenolol', 'tirosint',\n",
       "       'keppra', 'diovan', 'macrobid', 'cosopt', 'efudex', 'ritalin',\n",
       "       'ranitidine', 'toradol', 'nuvigil', 'sular', 'remeron',\n",
       "       'hydrochlorothiazide', 'dextrostat', 'doryx', 'desyrel', 'plendil',\n",
       "       'naprosyn', 'allegra', 'sumatriptan', 'vivelle-dot', 'mirtazapine',\n",
       "       'delestrogen', 'mobic', 'vagifem', 'parlodel', 'advair-diskus',\n",
       "       'glucophage', 'requip', 'oxycontin', 'trilipix', 'micardis',\n",
       "       'ketoconazole', 'clindamycin', 'norpramin', 'hytrin', 'flagyl',\n",
       "       'plavix', 'motrin', 'latisse', 'betamethasone', 'clobex',\n",
       "       'alprazolam', 'soma', 'biaxin', 'malarone', 'imodium', 'penlac',\n",
       "       'aczone', 'omacor', 'nizoral-shampoo', 'oxazepam', 'polymyxin-b',\n",
       "       'alendronate', 'meperidine', 'elidel', 'vioxx', 'innofem',\n",
       "       'grifulvin-v', 'omnicef', 'eulexin', 'ortho-tri-cyclen-lo',\n",
       "       'seroquel-xr', 'restasis', 'enablex', 'fluvoxamine', 'suboxone',\n",
       "       'metoprolol', 'lidex', 'tofranil-pm', 'betaseron', 'buprenorphine',\n",
       "       'zantac', 'geodon', 'dexedrine', 'clomid', 'ketorolac', 'zofran',\n",
       "       'sulindac', 'fiorinal', 'finacea', 'fluconazole', 'topicort',\n",
       "       'tylenol', 'baraclude', 'prochlorperazine', 'ventolin-hfa',\n",
       "       'avodart', 'axert', 'evista', 'penicillin-v', 'relpax', 'atripla',\n",
       "       'amitiza', 'fortaz', 'permapen', 'hydrocodone-and-acetaminophen',\n",
       "       'vasotec', 'temovate', 'lopressor', 'lamotrigine',\n",
       "       'premarin-vaginal', 'coreg', 'elocon', 'climara-pro', 'follistim',\n",
       "       'locoid-lipocream', 'accupril', 'niacor', 'catapres', 'azasan',\n",
       "       'imuran', 'viagra', 'ortho-novum', 'benicar-hct', 'tobramycin',\n",
       "       'fentanyl', 'triphasil', 'diflucan', 'ortho-evra', 'levaquin',\n",
       "       'benzaclin', 'aldara', 'compazine', 'ponstel', 'trimethobenzamide',\n",
       "       'inderal', 'galzin', 'carac', 'cardura-xl', 'lac-hydrin', 'ceclor',\n",
       "       'methadone', 'dispermox', 'xalatan', 'dovonex', 'corgard',\n",
       "       'solodyn', 'diltiazem', 'clobetasol', 'levitra', 'ecotrin',\n",
       "       'morphine', 'boniva', 'danazol', 'hyzaar', 'atacand', 'relafen',\n",
       "       'dysport', 'nizoral', 'ritalin-la', 'ziac', 'prednisolone',\n",
       "       'triamcinolone', 'estrostep-fe', 'cytomel', 'lodine',\n",
       "       'fosamax-plus-d', 'lidocaine', 'fioricet', 'dicyclomine',\n",
       "       'phendimetrazine', 'quibron-t', 'rhinocort', 'spiriva',\n",
       "       'oxybutynin', 'dilantin', 'desonide', 'lithium-carbonate',\n",
       "       'clarithromycin', 'detrol-la', 'dextroamphetamine', 'avapro',\n",
       "       'deltasone', 'femhrt', 'adderall-xr', 'dilaudid', 'bactrim-ds',\n",
       "       'nystatin', 'proair-hfa', 'mirapex', 'periostat', 'soltamox',\n",
       "       'pilocarpine', 'periogard', 'lantus', 'reglan', 'androgel',\n",
       "       'oxycodone-and-acetaminophen', 'depakene', 'cozaar', 'antivert',\n",
       "       'haldol', 'ribavirin', 'doxepin', 'lotrel', 'medroxyprogesterone',\n",
       "       'caduet', 'amphetamine', 'prograf', 'divigel', 'hydrocortisone',\n",
       "       'ziana', 'alesse', 'azopt', 'methimazole', 'fosinopril', 'rebif',\n",
       "       'paxil-cr', 'septra', 'ultram-er', 'provera', 'tambocor',\n",
       "       'hyoscyamine', 'levothroid', 'metrolotion', 'emsam',\n",
       "       'metoclopramide', 'aralen', 'azelex', 'flovent', 'tarka',\n",
       "       'vivelle', 'lo-ovral', 'anafranil', 'mercaptopurine', 'aloprim',\n",
       "       'nasarel', 'gonal-f-rff', 'trileptal', 'trental', 'elmiron',\n",
       "       'lasix', 'exelon', 'adcirca', 'duragesic', 'proloprim',\n",
       "       'dexamethasone', 'progesterone', 'skelaxin', 'vigamox',\n",
       "       'metformin-extended-release', 'neoprofen', 'inspra', 'zestoretic',\n",
       "       'vesicare', 'depakote', 'tekturna', 'serzone', 'benicar', 'zyvox',\n",
       "       'saizen', 'tegretol', 'propranolol', 'bystolic', 'nasacort-aq',\n",
       "       'pepcid', 'nardil', 'aciphex', 'sanctura-xr', 'vicoprofen',\n",
       "       'minocin', 'clindamycin-topical', 'lupron', 'accolate', 'flomax',\n",
       "       'asmanex', 'baciim', 'cardura', 'arthrotec', 'dostinex',\n",
       "       'tapazole', 'actiq', 'xyzal', 'bactroban', 'amerge', 'femara',\n",
       "       'toprol-xl', 'detrol', 'warfarin', 'glucophage-xr', 'kenalog',\n",
       "       'cyproheptadine', 'lotronex', 'levetiracetam', 'cefzil', 'azor',\n",
       "       'estring', 'erythra-derm', 'rifadin', 'bisoprolol',\n",
       "       'zovirax-topical', 'dapsone', 'lybrel', 'tequin',\n",
       "       'risperdal-consta', 'pamelor', 'benadryl', 'vistaril', 'arimidex'],\n",
       "      dtype=object)"
      ]
     },
     "execution_count": 57,
     "metadata": {},
     "output_type": "execute_result"
    }
   ],
   "source": [
    "#Checking Unique values of \"DRUG NAME\"\n",
    "data[\"DRUG NAME\"].unique()"
   ]
  },
  {
   "cell_type": "code",
   "execution_count": 58,
   "id": "060c11e6",
   "metadata": {},
   "outputs": [
    {
     "data": {
      "text/plain": [
       "array(['Mild Side Effects', 'Extremely Severe Side Effects',\n",
       "       'Severe Side Effects', 'No Side Effects', 'Moderate Side Effects'],\n",
       "      dtype=object)"
      ]
     },
     "execution_count": 58,
     "metadata": {},
     "output_type": "execute_result"
    }
   ],
   "source": [
    "#Checking Unique values of \"SIDE EFFECTS\"\n",
    "data[\"SIDE EFFECTS\"].unique()"
   ]
  },
  {
   "cell_type": "code",
   "execution_count": 59,
   "id": "ed3a8880",
   "metadata": {},
   "outputs": [
    {
     "data": {
      "text/plain": [
       "(array([0, 1, 2, 3, 4]),\n",
       " [Text(0, 0, 'Mild Side Effects'),\n",
       "  Text(1, 0, 'Extremely Severe Side Effects'),\n",
       "  Text(2, 0, 'Severe Side Effects'),\n",
       "  Text(3, 0, 'No Side Effects'),\n",
       "  Text(4, 0, 'Moderate Side Effects')])"
      ]
     },
     "execution_count": 59,
     "metadata": {},
     "output_type": "execute_result"
    },
    {
     "data": {
      "image/png": "[encoded data removed]",
      "text/plain": [
       "<Figure size 720x432 with 1 Axes>"
      ]
     },
     "metadata": {},
     "output_type": "display_data"
    }
   ],
   "source": [
    "data[\"SIDE EFFECTS\"].value_counts()\n",
    "plt.figure(figsize=(10,6))\n",
    "sns.countplot(x='SIDE EFFECTS',hue='SIDE EFFECTS',data=data)\n",
    "plt.title(\"SIDE EFFECTS COUNT\",fontsize=18 )\n",
    "plt.xticks(rotation=45)"
   ]
  },
  {
   "cell_type": "markdown",
   "id": "73e2a62a",
   "metadata": {},
   "source": [
    "# Inference \n",
    "According to the \"side effects\" count, Mild Side Effects are top most side effects which found \n",
    "basis of the EDA on this Side effects column"
   ]
  },
  {
   "cell_type": "markdown",
   "id": "124241ee",
   "metadata": {},
   "source": [
    "# Do necessary pre-processing steps."
   ]
  },
  {
   "cell_type": "code",
   "execution_count": 60,
   "id": "d130052b",
   "metadata": {},
   "outputs": [
    {
     "data": {
      "text/plain": [
       "20"
      ]
     },
     "execution_count": 60,
     "metadata": {},
     "output_type": "execute_result"
    }
   ],
   "source": [
    "#Checking the null values in column \"AGE\"\n",
    "data.AGE.isna().sum()"
   ]
  },
  {
   "cell_type": "code",
   "execution_count": 61,
   "id": "287cc7bc",
   "metadata": {},
   "outputs": [
    {
     "data": {
      "text/plain": [
       "NAME            0\n",
       "GENDER          0\n",
       "DRUG NAME       0\n",
       "AGE             0\n",
       "RACE            0\n",
       "SIDE EFFECTS    0\n",
       "dtype: int64"
      ]
     },
     "execution_count": 61,
     "metadata": {},
     "output_type": "execute_result"
    }
   ],
   "source": [
    "#filling the missing values in age with respect to the median of it.\n",
    "data[\"AGE\"]=data[\"AGE\"].fillna(data[\"AGE\"].median())\n",
    "data.isna().sum()"
   ]
  },
  {
   "cell_type": "code",
   "execution_count": 62,
   "id": "fab80160",
   "metadata": {},
   "outputs": [
    {
     "data": {
      "text/html": [
       "<div>\n",
       "<style scoped>\n",
       "    .dataframe tbody tr th:only-of-type {\n",
       "        vertical-align: middle;\n",
       "    }\n",
       "\n",
       "    .dataframe tbody tr th {\n",
       "        vertical-align: top;\n",
       "    }\n",
       "\n",
       "    .dataframe thead th {\n",
       "        text-align: right;\n",
       "    }\n",
       "</style>\n",
       "<table border=\"1\" class=\"dataframe\">\n",
       "  <thead>\n",
       "    <tr style=\"text-align: right;\">\n",
       "      <th></th>\n",
       "      <th>GENDER</th>\n",
       "      <th>DRUG NAME</th>\n",
       "      <th>AGE</th>\n",
       "      <th>RACE</th>\n",
       "      <th>SIDE EFFECTS</th>\n",
       "    </tr>\n",
       "  </thead>\n",
       "  <tbody>\n",
       "    <tr>\n",
       "      <th>0</th>\n",
       "      <td>M</td>\n",
       "      <td>topamax</td>\n",
       "      <td>41.0</td>\n",
       "      <td>White</td>\n",
       "      <td>Mild Side Effects</td>\n",
       "    </tr>\n",
       "    <tr>\n",
       "      <th>1</th>\n",
       "      <td>M</td>\n",
       "      <td>zocor</td>\n",
       "      <td>53.0</td>\n",
       "      <td>Hispanic, White</td>\n",
       "      <td>Extremely Severe Side Effects</td>\n",
       "    </tr>\n",
       "    <tr>\n",
       "      <th>2</th>\n",
       "      <td>F</td>\n",
       "      <td>tazorac</td>\n",
       "      <td>31.0</td>\n",
       "      <td>White</td>\n",
       "      <td>Mild Side Effects</td>\n",
       "    </tr>\n",
       "  </tbody>\n",
       "</table>\n",
       "</div>"
      ],
      "text/plain": [
       "  GENDER DRUG NAME   AGE             RACE                   SIDE EFFECTS\n",
       "0      M   topamax  41.0            White              Mild Side Effects\n",
       "1      M     zocor  53.0  Hispanic, White  Extremely Severe Side Effects\n",
       "2      F   tazorac  31.0            White              Mild Side Effects"
      ]
     },
     "execution_count": 62,
     "metadata": {},
     "output_type": "execute_result"
    }
   ],
   "source": [
    "#Drop the column \"Name\" which doesn't give any contribution for the modelling\n",
    "data = data.drop(['NAME'], axis = 1)\n",
    "data.head(3)"
   ]
  },
  {
   "cell_type": "code",
   "execution_count": 63,
   "id": "5f112945",
   "metadata": {},
   "outputs": [
    {
     "name": "stdout",
     "output_type": "stream",
     "text": [
      "<class 'pandas.core.frame.DataFrame'>\n",
      "RangeIndex: 400000 entries, 0 to 399999\n",
      "Data columns (total 5 columns):\n",
      " #   Column        Non-Null Count   Dtype  \n",
      "---  ------        --------------   -----  \n",
      " 0   GENDER        400000 non-null  object \n",
      " 1   DRUG NAME     400000 non-null  object \n",
      " 2   AGE           400000 non-null  float64\n",
      " 3   RACE          400000 non-null  object \n",
      " 4   SIDE EFFECTS  400000 non-null  object \n",
      "dtypes: float64(1), object(4)\n",
      "memory usage: 15.3+ MB\n"
     ]
    }
   ],
   "source": [
    "#checking the info\n",
    "data.info()"
   ]
  },
  {
   "cell_type": "code",
   "execution_count": 64,
   "id": "33d4c57a",
   "metadata": {},
   "outputs": [
    {
     "data": {
      "text/plain": [
       "80"
      ]
     },
     "execution_count": 64,
     "metadata": {},
     "output_type": "execute_result"
    }
   ],
   "source": [
    "data[\"AGE\"].nunique()\n"
   ]
  },
  {
   "cell_type": "markdown",
   "id": "c4f1a7a8",
   "metadata": {},
   "source": [
    "# We've to find out the outliers in the data's"
   ]
  },
  {
   "cell_type": "code",
   "execution_count": 65,
   "id": "893a5696",
   "metadata": {},
   "outputs": [
    {
     "name": "stdout",
     "output_type": "stream",
     "text": [
      "value of Q1: 34.0\n",
      "value of Q2: 45.0\n",
      "value of Q3: 57.0\n"
     ]
    }
   ],
   "source": [
    "# Calculate quartile values for 'AGE' using 30,60 and 90 percentile values\n",
    "Q1=np.percentile(data[\"AGE\"],30,interpolation= \"midpoint\")\n",
    "Q2=np.percentile(data[\"AGE\"],60,interpolation= \"midpoint\")\n",
    "Q3=np.percentile(data[\"AGE\"],90,interpolation= \"midpoint\")\n",
    "print(\"value of Q1:\",Q1)\n",
    "print(\"value of Q2:\",Q2)\n",
    "print(\"value of Q3:\",Q3)"
   ]
  },
  {
   "cell_type": "code",
   "execution_count": 66,
   "id": "4163e150",
   "metadata": {},
   "outputs": [
    {
     "data": {
      "text/plain": [
       "41.0"
      ]
     },
     "execution_count": 66,
     "metadata": {},
     "output_type": "execute_result"
    }
   ],
   "source": [
    "data[\"AGE\"].median()"
   ]
  },
  {
   "cell_type": "code",
   "execution_count": 67,
   "id": "dc948402",
   "metadata": {},
   "outputs": [],
   "source": [
    "IQR= Q3-Q1"
   ]
  },
  {
   "cell_type": "code",
   "execution_count": 68,
   "id": "db4680df",
   "metadata": {},
   "outputs": [
    {
     "name": "stdout",
     "output_type": "stream",
     "text": [
      "Upper limit value is: 91.5\n",
      "Lower limit value is: -0.5\n"
     ]
    }
   ],
   "source": [
    "Upper_lim= Q3+1.5*IQR\n",
    "Lower_lim=Q1-1.5*IQR\n",
    "print(\"Upper limit value is:\",Upper_lim)\n",
    "print(\"Lower limit value is:\",Lower_lim)"
   ]
  },
  {
   "cell_type": "code",
   "execution_count": 69,
   "id": "1a11793e",
   "metadata": {},
   "outputs": [],
   "source": [
    "outlier=[]\n",
    "for x in data[\"AGE\"]:\n",
    "    if((x>Upper_lim)or(x<Lower_lim)):\n",
    "        outlier.append(x)"
   ]
  },
  {
   "cell_type": "code",
   "execution_count": 70,
   "id": "19aedc61",
   "metadata": {},
   "outputs": [
    {
     "data": {
      "text/plain": [
       "[300.0,\n",
       " 302.0,\n",
       " 500.0,\n",
       " 400.0,\n",
       " 203.0,\n",
       " 160.0,\n",
       " 400.0,\n",
       " 191.0,\n",
       " 450.0,\n",
       " 390.0,\n",
       " 155.0,\n",
       " 300.0,\n",
       " 390.0,\n",
       " 600.0,\n",
       " 211.0,\n",
       " 600.0,\n",
       " 401.0,\n",
       " 300.0,\n",
       " 390.0]"
      ]
     },
     "execution_count": 70,
     "metadata": {},
     "output_type": "execute_result"
    }
   ],
   "source": [
    "outlier"
   ]
  },
  {
   "cell_type": "code",
   "execution_count": 71,
   "id": "b24c5caa",
   "metadata": {},
   "outputs": [
    {
     "data": {
      "text/plain": [
       "Int64Index([  3008,  41048,  66169,  85047, 111850, 119574, 127240, 171643,\n",
       "            174039, 174487, 224733, 232518, 264849, 290165, 325631, 333669,\n",
       "            337790, 384352, 393820],\n",
       "           dtype='int64')"
      ]
     },
     "execution_count": 71,
     "metadata": {},
     "output_type": "execute_result"
    }
   ],
   "source": [
    "ind_val=data[\"AGE\"]>Upper_lim\n",
    "data.loc[ind_val].index"
   ]
  },
  {
   "cell_type": "code",
   "execution_count": 72,
   "id": "7f5cfe5d",
   "metadata": {},
   "outputs": [],
   "source": [
    "data.drop([ 3008,  41048,  66169,  85047, 111850, 119574, 127240, 171643,\n",
    "            174039, 174487, 224733, 232518, 264849, 290165, 325631, 333669,\n",
    "            337790, 384352, 393820],inplace=True)\n"
   ]
  },
  {
   "cell_type": "markdown",
   "id": "50cc3fbb",
   "metadata": {},
   "source": [
    "# Inference\n",
    "In this case we're taking quartile values for 'AGE' using 30,60 and 90 percentile values Because according to the age logically maximum life expactancy is about 80-90 years in rare case it's upto 102-110.so we conclude to detect the outliers above 110 and droping for the better accuracy in model. "
   ]
  },
  {
   "cell_type": "code",
   "execution_count": 73,
   "id": "3723eed2",
   "metadata": {},
   "outputs": [
    {
     "data": {
      "text/plain": [
       "count    399981.000000\n",
       "mean         41.451851\n",
       "std          12.337345\n",
       "min          14.000000\n",
       "25%          31.000000\n",
       "50%          41.000000\n",
       "75%          51.000000\n",
       "max          90.000000\n",
       "Name: AGE, dtype: float64"
      ]
     },
     "execution_count": 73,
     "metadata": {},
     "output_type": "execute_result"
    }
   ],
   "source": [
    "data[\"AGE\"].describe()"
   ]
  },
  {
   "cell_type": "markdown",
   "id": "aab71212",
   "metadata": {},
   "source": [
    "# Label Encodding & Mapping"
   ]
  },
  {
   "cell_type": "code",
   "execution_count": 74,
   "id": "19f371cb",
   "metadata": {},
   "outputs": [],
   "source": [
    "data01 = data.copy()"
   ]
  },
  {
   "cell_type": "code",
   "execution_count": 75,
   "id": "b310bbd8",
   "metadata": {},
   "outputs": [
    {
     "name": "stdout",
     "output_type": "stream",
     "text": [
      "Mapped labels of the features in data01 are [{'F': 0, 'M': 1}, {'abilify': 0, 'accolate': 1, 'accupril': 2, 'accutane': 3, 'aciphex': 4, 'actiq': 5, 'actonel': 6, 'actos': 7, 'acyclovir': 8, 'aczone': 9, 'adcirca': 10, 'adderall': 11, 'adderall-xr': 12, 'adipex-p': 13, 'advair-diskus': 14, 'advair-hfa': 15, 'albuterol': 16, 'aldactone': 17, 'aldara': 18, 'alendronate': 19, 'alesse': 20, 'allegra': 21, 'allegra-d': 22, 'aloprim': 23, 'alprazolam': 24, 'ambien': 25, 'ambien-cr': 26, 'amerge': 27, 'amitiza': 28, 'amoxil': 29, 'amphetamine': 30, 'ampicillin': 31, 'anafranil': 32, 'androgel': 33, 'angeliq': 34, 'antivert': 35, 'aralen': 36, 'arava': 37, 'aricept': 38, 'arimidex': 39, 'armour-thyroid': 40, 'aromasin': 41, 'arthrotec': 42, 'asacol': 43, 'asmanex': 44, 'atacand': 45, 'atarax': 46, 'atenolol': 47, 'ativan': 48, 'atripla': 49, 'augmentin': 50, 'avage': 51, 'avapro': 52, 'avelox': 53, 'avita': 54, 'avodart': 55, 'axert': 56, 'aygestin': 57, 'azasan': 58, 'azelex': 59, 'azopt': 60, 'azor': 61, 'baciim': 62, 'baclofen': 63, 'bactrim-ds': 64, 'bactroban': 65, 'baraclude': 66, 'benadryl': 67, 'benicar': 68, 'benicar-hct': 69, 'benzaclin': 70, 'betamethasone': 71, 'betaseron': 72, 'biaxin': 73, 'bisoprolol': 74, 'boniva': 75, 'botox': 76, 'buprenorphine': 77, 'buspar': 78, 'byetta': 79, 'bystolic': 80, 'caduet': 81, 'carac': 82, 'cardura': 83, 'cardura-xl': 84, 'cataflam': 85, 'catapres': 86, 'ceclor': 87, 'cefzil': 88, 'celebrex': 89, 'celexa': 90, 'chantix': 91, 'cialis': 92, 'cipro': 93, 'citalopram': 94, 'clarinex': 95, 'claripel-cream': 96, 'clarithromycin': 97, 'claritin': 98, 'cleocin': 99, 'climara': 100, 'climara-pro': 101, 'clindamycin': 102, 'clindamycin-topical': 103, 'clobetasol': 104, 'clobex': 105, 'clomid': 106, 'clonazepam': 107, 'compazine': 108, 'concerta': 109, 'copaxone': 110, 'coreg': 111, 'corgard': 112, 'cosopt': 113, 'coumadin': 114, 'cozaar': 115, 'crestor': 116, 'cymbalta': 117, 'cyproheptadine': 118, 'cytomel': 119, 'danazol': 120, 'dapsone': 121, 'darvocet-n': 122, 'delestrogen': 123, 'deltasone': 124, 'depakene': 125, 'depakote': 126, 'depo-provera': 127, 'desonide': 128, 'desyrel': 129, 'detrol': 130, 'detrol-la': 131, 'dexamethasone': 132, 'dexedrine': 133, 'dextroamphetamine': 134, 'dextrostat': 135, 'diazepam': 136, 'diclofenac': 137, 'dicyclomine': 138, 'differin': 139, 'diflucan': 140, 'dilantin': 141, 'dilaudid': 142, 'diltiazem': 143, 'diovan': 144, 'dispermox': 145, 'ditropan': 146, 'divigel': 147, 'doryx': 148, 'dostinex': 149, 'dovonex': 150, 'doxepin': 151, 'doxycycline': 152, 'duac': 153, 'duragesic': 154, 'dysport': 155, 'ecotrin': 156, 'effexor': 157, 'effexor-xr': 158, 'efudex': 159, 'elavil': 160, 'elidel': 161, 'elmiron': 162, 'elocon': 163, 'emsam': 164, 'enablex': 165, 'enalapril': 166, 'enbrel': 167, 'erythra-derm': 168, 'erythromycin': 169, 'estrace': 170, 'estrasorb': 171, 'estratest': 172, 'estring': 173, 'estrostep-fe': 174, 'eulexin': 175, 'evista': 176, 'evoclin': 177, 'exelon': 178, 'femara': 179, 'femhrt': 180, 'femring': 181, 'fentanyl': 182, 'fexofenadine': 183, 'finacea': 184, 'fioricet': 185, 'fiorinal': 186, 'flagyl': 187, 'flexeril': 188, 'flomax': 189, 'flonase': 190, 'flovent': 191, 'fluconazole': 192, 'fluvoxamine': 193, 'follistim': 194, 'fortaz': 195, 'fosamax': 196, 'fosamax-plus-d': 197, 'fosinopril': 198, 'frova': 199, 'galzin': 200, 'geodon': 201, 'glucophage': 202, 'glucophage-xr': 203, 'gonal-f-rff': 204, 'grifulvin-v': 205, 'halcion': 206, 'haldol': 207, 'humira': 208, 'hydrochlorothiazide': 209, 'hydrocodone-and-acetaminophen': 210, 'hydrocortisone': 211, 'hyoscyamine': 212, 'hytrin': 213, 'hyzaar': 214, 'imitrex': 215, 'imodium': 216, 'imuran': 217, 'inderal': 218, 'innofem': 219, 'inspra': 220, 'isoniazid': 221, 'keflex': 222, 'kenalog': 223, 'keppra': 224, 'ketoconazole': 225, 'ketorolac': 226, 'klaron': 227, 'klonopin': 228, 'lac-hydrin': 229, 'lamictal': 230, 'lamisil': 231, 'lamotrigine': 232, 'lantus': 233, 'lasix': 234, 'latisse': 235, 'levaquin': 236, 'levetiracetam': 237, 'levitra': 238, 'levora': 239, 'levothroid': 240, 'levoxyl': 241, 'lexapro': 242, 'lidex': 243, 'lidocaine': 244, 'lipitor': 245, 'lithium-carbonate': 246, 'lo-ovral': 247, 'locoid-lipocream': 248, 'lodine': 249, 'lopressor': 250, 'lorazepam': 251, 'lortab': 252, 'lotrel': 253, 'lotronex': 254, 'lumigan': 255, 'lunesta': 256, 'lupron': 257, 'lybrel': 258, 'lyrica': 259, 'macrobid': 260, 'malarone': 261, 'maxalt': 262, 'medroxyprogesterone': 263, 'meperidine': 264, 'mercaptopurine': 265, 'meridia': 266, 'metformin': 267, 'metformin-extended-release': 268, 'methadone': 269, 'methimazole': 270, 'methotrexate': 271, 'metoclopramide': 272, 'metoprolol': 273, 'metrogel': 274, 'metrolotion': 275, 'metronidazole': 276, 'mevacor': 277, 'micardis': 278, 'minocin': 279, 'minocycline': 280, 'minoxidil': 281, 'miralax': 282, 'mirapex': 283, 'mirena': 284, 'mirtazapine': 285, 'mobic': 286, 'morphine': 287, 'motrin': 288, 'naltrexone': 289, 'naprosyn': 290, 'naproxen': 291, 'nardil': 292, 'nasacort': 293, 'nasacort-aq': 294, 'nasarel': 295, 'nasonex': 296, 'neoprofen': 297, 'neurontin': 298, 'nexium': 299, 'niacor': 300, 'niaspan': 301, 'nitrofurantoin': 302, 'nizoral': 303, 'nizoral-shampoo': 304, 'nolvadex': 305, 'noroxin': 306, 'norpramin': 307, 'nortriptyline': 308, 'norvasc': 309, 'nuvaring': 310, 'nuvigil': 311, 'nystatin': 312, 'omacor': 313, 'omnicef': 314, 'omnitrope': 315, 'oracea': 316, 'ortho-evra': 317, 'ortho-novum': 318, 'ortho-tri-cyclen': 319, 'ortho-tri-cyclen-lo': 320, 'oxazepam': 321, 'oxybutynin': 322, 'oxycodone': 323, 'oxycodone-and-acetaminophen': 324, 'oxycontin': 325, 'pamelor': 326, 'panixine-disperdose': 327, 'parlodel': 328, 'paxil': 329, 'paxil-cr': 330, 'penicillin-v': 331, 'penlac': 332, 'pentasa': 333, 'pepcid': 334, 'percocet': 335, 'periogard': 336, 'periostat': 337, 'permapen': 338, 'phendimetrazine': 339, 'phenergan': 340, 'pilocarpine': 341, 'plavix': 342, 'plendil': 343, 'polymyxin-b': 344, 'ponstel': 345, 'pravachol': 346, 'prednisolone': 347, 'prednisone': 348, 'premarin': 349, 'premarin-vaginal': 350, 'prempro': 351, 'prevacid': 352, 'prilosec': 353, 'prinivil': 354, 'pristiq': 355, 'proair-hfa': 356, 'prochlorperazine': 357, 'progesterone': 358, 'prograf': 359, 'proloprim': 360, 'prometrium': 361, 'propecia': 362, 'propranolol': 363, 'proquin-xr': 364, 'proscar': 365, 'protonix': 366, 'protopic': 367, 'provera': 368, 'provigil': 369, 'prozac': 370, 'quibron-t': 371, 'qvar': 372, 'ranitidine': 373, 'rebif': 374, 'reglan': 375, 'relafen': 376, 'relpax': 377, 'remeron': 378, 'remicade': 379, 'renova': 380, 'requip': 381, 'restasis': 382, 'restoril': 383, 'retin-a': 384, 'retin-a-micro': 385, 'rhinocort': 386, 'ribavirin': 387, 'rifadin': 388, 'risperdal': 389, 'risperdal-consta': 390, 'ritalin': 391, 'ritalin-la': 392, 'saizen': 393, 'sanctura-xr': 394, 'sarafem': 395, 'seasonale': 396, 'seasonique': 397, 'selegiline': 398, 'septra': 399, 'seroquel': 400, 'seroquel-xr': 401, 'serzone': 402, 'singulair': 403, 'skelaxin': 404, 'solodyn': 405, 'soltamox': 406, 'soma': 407, 'sonata': 408, 'sotret': 409, 'spiriva': 410, 'spironolactone': 411, 'strattera': 412, 'suboxone': 413, 'sular': 414, 'sulfasalazine': 415, 'sulindac': 416, 'sumatriptan': 417, 'symbicort': 418, 'symbyax': 419, 'synthroid': 420, 'tambocor': 421, 'tamiflu': 422, 'tapazole': 423, 'tarka': 424, 'tazorac': 425, 'tegretol': 426, 'tekturna': 427, 'temovate': 428, 'tenormin': 429, 'tequin': 430, 'tetracycline': 431, 'tirosint': 432, 'tobramycin': 433, 'tofranil-pm': 434, 'topamax': 435, 'topicort': 436, 'toprol-xl': 437, 'toradol': 438, 'tramadol': 439, 'trazodone': 440, 'trental': 441, 'tri-luma': 442, 'triamcinolone': 443, 'triaz': 444, 'trileptal': 445, 'trilipix': 446, 'trimethobenzamide': 447, 'trimethoprim': 448, 'triphasil': 449, 'tussionex': 450, 'tylenol': 451, 'ultracet': 452, 'ultram': 453, 'ultram-er': 454, 'vagifem': 455, 'valium': 456, 'valtrex': 457, 'vaniqa': 458, 'vasotec': 459, 'ventolin-hfa': 460, 'vesicare': 461, 'viagra': 462, 'vicodin': 463, 'vicoprofen': 464, 'vigamox': 465, 'vioxx': 466, 'vistaril': 467, 'vivelle': 468, 'vivelle-dot': 469, 'voltaren': 470, 'vytorin': 471, 'vyvanse': 472, 'warfarin': 473, 'wellbutrin': 474, 'wellbutrin-sr': 475, 'wellbutrin-xl': 476, 'xalatan': 477, 'xanax': 478, 'xanax-xr': 479, 'xenical': 480, 'xyrem': 481, 'xyzal': 482, 'yasmin': 483, 'zantac': 484, 'zegerid': 485, 'zestoretic': 486, 'ziac': 487, 'ziana': 488, 'zithromax': 489, 'zmax': 490, 'zocor': 491, 'zofran': 492, 'zoloft': 493, 'zomig': 494, 'zovirax': 495, 'zovirax-topical': 496, 'zyban': 497, 'zyprexa': 498, 'zyrtec': 499, 'zyrtec-d': 500, 'zyvox': 501}, {'Asian Indian': 0, 'Asian, Other': 1, 'Black': 2, 'Chinese': 3, 'Hispanic, Black': 4, 'Hispanic, White': 5, 'Other': 6, 'Unknown': 7, 'White': 8}, {'Extremely Severe Side Effects': 0, 'Mild Side Effects': 1, 'Moderate Side Effects': 2, 'No Side Effects': 3, 'Severe Side Effects': 4}]\n"
     ]
    }
   ],
   "source": [
    "from sklearn.preprocessing import LabelEncoder\n",
    "\n",
    "cols = []\n",
    "for i in data01.columns:\n",
    "    if data01[i].dtype == 'object':\n",
    "        cols.append(i)\n",
    "\n",
    "labelencoder = LabelEncoder()\n",
    "mapping =[]\n",
    "for i in cols:\n",
    "    data01[i] = labelencoder.fit_transform(data01[i])\n",
    "    lemap = dict(zip(labelencoder.classes_,labelencoder.transform(labelencoder.classes_)))\n",
    "    mapping.append(lemap)\n",
    "\n",
    "print(f\"Mapped labels of the features in data01 are {mapping}\")"
   ]
  },
  {
   "cell_type": "markdown",
   "id": "e0ec6bd0",
   "metadata": {},
   "source": [
    "# correlation Heatmap"
   ]
  },
  {
   "cell_type": "code",
   "execution_count": 76,
   "id": "bcc38b56",
   "metadata": {},
   "outputs": [
    {
     "data": {
      "text/plain": [
       "<AxesSubplot:>"
      ]
     },
     "execution_count": 76,
     "metadata": {},
     "output_type": "execute_result"
    },
    {
     "data": {
      "image/png": "[encoded data removed]",
      "text/plain": [
       "<Figure size 720x1080 with 2 Axes>"
      ]
     },
     "metadata": {},
     "output_type": "display_data"
    }
   ],
   "source": [
    "# Create the correlation heatmap \n",
    "from matplotlib import pyplot as plt\n",
    "import seaborn as sns\n",
    "corrmatrix = data01.corr()\n",
    "plt.subplots(figsize=(10,15))\n",
    "colormap = sns.color_palette(\"inferno\", as_cmap=True)\n",
    "sns.set_theme(style='darkgrid')\n",
    "# Generating a mask for the upper triangle\n",
    "mask = np.zeros_like(corrmatrix)\n",
    "mask[np.triu_indices_from(mask)] = True\n",
    "# Heatmap with the mask\n",
    "sns.heatmap(corrmatrix,mask=mask, square=True, annot=True, linewidth=0.75, cmap=colormap)"
   ]
  },
  {
   "cell_type": "code",
   "execution_count": 77,
   "id": "e305f3f2",
   "metadata": {},
   "outputs": [
    {
     "data": {
      "text/html": [
       "<div>\n",
       "<style scoped>\n",
       "    .dataframe tbody tr th:only-of-type {\n",
       "        vertical-align: middle;\n",
       "    }\n",
       "\n",
       "    .dataframe tbody tr th {\n",
       "        vertical-align: top;\n",
       "    }\n",
       "\n",
       "    .dataframe thead th {\n",
       "        text-align: right;\n",
       "    }\n",
       "</style>\n",
       "<table border=\"1\" class=\"dataframe\">\n",
       "  <thead>\n",
       "    <tr style=\"text-align: right;\">\n",
       "      <th></th>\n",
       "      <th>GENDER</th>\n",
       "      <th>DRUG NAME</th>\n",
       "      <th>AGE</th>\n",
       "      <th>SIDE EFFECTS</th>\n",
       "    </tr>\n",
       "  </thead>\n",
       "  <tbody>\n",
       "    <tr>\n",
       "      <th>0</th>\n",
       "      <td>1</td>\n",
       "      <td>435</td>\n",
       "      <td>41.0</td>\n",
       "      <td>1</td>\n",
       "    </tr>\n",
       "    <tr>\n",
       "      <th>1</th>\n",
       "      <td>1</td>\n",
       "      <td>491</td>\n",
       "      <td>53.0</td>\n",
       "      <td>0</td>\n",
       "    </tr>\n",
       "    <tr>\n",
       "      <th>2</th>\n",
       "      <td>0</td>\n",
       "      <td>425</td>\n",
       "      <td>31.0</td>\n",
       "      <td>1</td>\n",
       "    </tr>\n",
       "  </tbody>\n",
       "</table>\n",
       "</div>"
      ],
      "text/plain": [
       "   GENDER  DRUG NAME   AGE  SIDE EFFECTS\n",
       "0       1        435  41.0             1\n",
       "1       1        491  53.0             0\n",
       "2       0        425  31.0             1"
      ]
     },
     "execution_count": 77,
     "metadata": {},
     "output_type": "execute_result"
    }
   ],
   "source": [
    "data01.drop(['RACE'], axis=1, inplace=True)\n",
    "data01.head(3)"
   ]
  },
  {
   "cell_type": "markdown",
   "id": "52c11842",
   "metadata": {},
   "source": [
    "# Inference\n",
    "Dropping the column \"RACE\" Due to highly negative correlation"
   ]
  },
  {
   "cell_type": "code",
   "execution_count": 78,
   "id": "8dccd1d5",
   "metadata": {},
   "outputs": [
    {
     "data": {
      "text/plain": [
       "<AxesSubplot:>"
      ]
     },
     "execution_count": 78,
     "metadata": {},
     "output_type": "execute_result"
    },
    {
     "data": {
      "image/png": "[encoded data removed]",
      "text/plain": [
       "<Figure size 720x1080 with 2 Axes>"
      ]
     },
     "metadata": {},
     "output_type": "display_data"
    }
   ],
   "source": [
    "from matplotlib import pyplot as plt\n",
    "import seaborn as sns\n",
    "corrmatrix = data01.corr()\n",
    "plt.subplots(figsize=(10,15))\n",
    "colormap = sns.color_palette(\"inferno\", as_cmap=True)\n",
    "sns.set_theme(style='darkgrid')\n",
    "# Generating a mask for the upper triangle\n",
    "mask = np.zeros_like(corrmatrix)\n",
    "mask[np.triu_indices_from(mask)] = True\n",
    "# Heatmap with the mask\n",
    "sns.heatmap(corrmatrix,mask=mask, square=True, annot=True, linewidth=0.75, cmap=colormap)"
   ]
  },
  {
   "cell_type": "markdown",
   "id": "ea098124",
   "metadata": {},
   "source": [
    "# Training the models\n",
    "\n",
    "1] Logistic Regression\n",
    "\n",
    "2] K – Nearest Neighbour (KNN)\n",
    "\n",
    "3] Random Forest\n",
    "\n",
    "4] Decision Trees"
   ]
  },
  {
   "cell_type": "code",
   "execution_count": 79,
   "id": "f378a334",
   "metadata": {},
   "outputs": [],
   "source": [
    "from sklearn.feature_selection import RFE\n",
    "from sklearn.model_selection import train_test_split\n",
    "from sklearn.model_selection import cross_val_score\n",
    "from sklearn.metrics import mean_squared_error, r2_score\n",
    "from sklearn.preprocessing import MinMaxScaler\n",
    "from sklearn.metrics import confusion_matrix\n",
    "from sklearn.metrics import classification_report\n",
    "\n",
    "from sklearn.linear_model import LinearRegression\n",
    "from sklearn.tree import DecisionTreeRegressor\n",
    "from sklearn.ensemble import RandomForestClassifier\n",
    "from sklearn.ensemble import GradientBoostingRegressor\n",
    "from sklearn.model_selection import GridSearchCV"
   ]
  },
  {
   "cell_type": "code",
   "execution_count": 80,
   "id": "11fb10d1",
   "metadata": {},
   "outputs": [],
   "source": [
    "# Splitting the Dataframe\n",
    "# Independent variables\n",
    "X = data01.drop(['SIDE EFFECTS'], axis=1)\n",
    "# Dependent variables\n",
    "y = data01['SIDE EFFECTS']\n",
    "\n",
    "X_train, X_test, y_train, y_test = train_test_split(X, y, test_size = 0.35, random_state=42)"
   ]
  },
  {
   "cell_type": "markdown",
   "id": "ae771e5a",
   "metadata": {},
   "source": [
    "# LogisticRegression"
   ]
  },
  {
   "cell_type": "code",
   "execution_count": null,
   "id": "ca656fff",
   "metadata": {},
   "outputs": [],
   "source": [
    "# LogisticRegression\n",
    "from sklearn.linear_model import LogisticRegression\n",
    "classifier = LogisticRegression()\n",
    "classifier.fit(X_train, y_train)\n",
    "\n",
    "y_pred = classifier.predict(X_test)\n",
    "\n",
    "#Summary of the predictions made by the classifier\n",
    "print(classification_report(y_test, y_pred))\n",
    "print(confusion_matrix(y_test, y_pred))\n",
    "# Accuracy score\n",
    "from sklearn.metrics import accuracy_score\n",
    "print('accuracy is',accuracy_score(y_pred,y_test))"
   ]
  },
  {
   "cell_type": "markdown",
   "id": "61008040",
   "metadata": {},
   "source": [
    "# K-Nearest Neighbours"
   ]
  },
  {
   "cell_type": "code",
   "execution_count": 82,
   "id": "4bd6e31a",
   "metadata": {},
   "outputs": [
    {
     "name": "stdout",
     "output_type": "stream",
     "text": [
      "              precision    recall  f1-score   support\n",
      "\n",
      "           0       0.97      0.93      0.95      7978\n",
      "           1       0.96      0.98      0.97     46563\n",
      "           2       0.97      0.97      0.97     26181\n",
      "           3       0.98      0.96      0.97     40323\n",
      "           4       0.97      0.98      0.97     18949\n",
      "\n",
      "    accuracy                           0.97    139994\n",
      "   macro avg       0.97      0.96      0.97    139994\n",
      "weighted avg       0.97      0.97      0.97    139994\n",
      "\n",
      "[[ 7453   390    54    57    24]\n",
      " [  107 45590   351   436    79]\n",
      " [   41   379 25383   304    74]\n",
      " [   45   904   380 38588   406]\n",
      " [   32   150   112   134 18521]]\n",
      "accuracy is 0.9681486349414975\n"
     ]
    }
   ],
   "source": [
    "# K-Nearest Neighbours\n",
    "from sklearn.neighbors import KNeighborsClassifier\n",
    "\n",
    "classifier = KNeighborsClassifier(n_neighbors=8)\n",
    "classifier.fit(X_train, y_train)\n",
    "\n",
    "y_pred = classifier.predict(X_test)\n",
    "\n",
    "# Summary of the predictions made by the classifier\n",
    "print(classification_report(y_test, y_pred))\n",
    "print(confusion_matrix(y_test, y_pred))\n",
    "# Accuracy score\n",
    "from sklearn.metrics import accuracy_score\n",
    "print('accuracy is',accuracy_score(y_pred,y_test))"
   ]
  },
  {
   "cell_type": "markdown",
   "id": "1f417351",
   "metadata": {},
   "source": [
    "# RandomForestClassifier"
   ]
  },
  {
   "cell_type": "code",
   "execution_count": 83,
   "id": "8285fb79",
   "metadata": {},
   "outputs": [],
   "source": [
    "# Importing RandomForestClassifier sklearn.ensemble as RFC\n",
    "from sklearn.ensemble import RandomForestClassifier as RFC\n",
    "RModel=RFC(n_estimators=100, random_state=42)\n",
    "# Training the model\n",
    "RModel.fit(X_train,y_train)\n",
    "y_Pred=RModel.predict(X_test)"
   ]
  },
  {
   "cell_type": "code",
   "execution_count": 84,
   "id": "f9c47993",
   "metadata": {},
   "outputs": [
    {
     "name": "stdout",
     "output_type": "stream",
     "text": [
      "              precision    recall  f1-score   support\n",
      "\n",
      "           0       0.96      0.96      0.96      7978\n",
      "           1       0.98      0.97      0.98     46563\n",
      "           2       0.98      0.97      0.98     26181\n",
      "           3       0.97      0.98      0.97     40323\n",
      "           4       0.98      0.98      0.98     18949\n",
      "\n",
      "    accuracy                           0.98    139994\n",
      "   macro avg       0.97      0.97      0.97    139994\n",
      "weighted avg       0.98      0.98      0.98    139994\n",
      "\n",
      "[[ 7629   248    34    42    25]\n",
      " [  197 45329   148   807    82]\n",
      " [   42   295 25525   251    68]\n",
      " [   21   201   290 39558   253]\n",
      " [   27    57    65   237 18563]]\n",
      "accuracy is 0.9757846764861351\n"
     ]
    }
   ],
   "source": [
    "# Summary of the predictions made by the classifier\n",
    "print(classification_report(y_test, y_Pred))\n",
    "print(confusion_matrix(y_test, y_Pred))\n",
    "# Accuracy score\n",
    "from sklearn.metrics import accuracy_score\n",
    "print('accuracy is',accuracy_score(y_Pred,y_test))"
   ]
  },
  {
   "cell_type": "markdown",
   "id": "9ec94ea7",
   "metadata": {},
   "source": [
    "# Decision Tree's"
   ]
  },
  {
   "cell_type": "code",
   "execution_count": 85,
   "id": "469bb2f1",
   "metadata": {},
   "outputs": [
    {
     "name": "stdout",
     "output_type": "stream",
     "text": [
      "              precision    recall  f1-score   support\n",
      "\n",
      "           0       0.96      0.96      0.96      7978\n",
      "           1       0.98      0.98      0.98     46563\n",
      "           2       0.98      0.98      0.98     26181\n",
      "           3       0.97      0.98      0.98     40323\n",
      "           4       0.98      0.98      0.98     18949\n",
      "\n",
      "    accuracy                           0.98    139994\n",
      "   macro avg       0.98      0.97      0.97    139994\n",
      "weighted avg       0.98      0.98      0.98    139994\n",
      "\n",
      "[[ 7639   246    31    39    23]\n",
      " [  192 45415   116   768    72]\n",
      " [   44   309 25531   237    60]\n",
      " [   21   195   281 39591   235]\n",
      " [   27    49    63   233 18577]]\n",
      "accuracy is 0.9768490078146206\n"
     ]
    }
   ],
   "source": [
    "# Decision Tree's\n",
    "from sklearn.tree import DecisionTreeClassifier\n",
    "\n",
    "classifier = DecisionTreeClassifier()\n",
    "\n",
    "classifier.fit(X_train, y_train)\n",
    "\n",
    "y_pred = classifier.predict(X_test)\n",
    "\n",
    "# Summary of the predictions made by the classifier\n",
    "print(classification_report(y_test, y_pred))\n",
    "print(confusion_matrix(y_test, y_pred))\n",
    "# Accuracy score\n",
    "from sklearn.metrics import accuracy_score\n",
    "print('accuracy is',accuracy_score(y_pred,y_test))"
   ]
  },
  {
   "cell_type": "markdown",
   "id": "d0482741",
   "metadata": {},
   "source": [
    "# Summary:\n",
    "In this project, we Build the classifier and fit the data to the model. own supervised machine learning model\n",
    "\n",
    "After the implementing the logistic regression, K – Nearest Neighbour (KNN) ,  Random forest algorithms and decision tree from all, The  Decision Tree's came outwith the best accuracy of prediction (Accuracy is 0.97684) so we can use that model for best predictions.\n",
    "\n",
    "Thank you :)\n",
    "\n",
    "submitted by HARIKRISHNAN BHUVANENDRAN"
   ]
  },
  {
   "cell_type": "code",
   "execution_count": null,
   "id": "8dcc11b1",
   "metadata": {},
   "outputs": [],
   "source": []
  }
 ],
 "metadata": {
  "kernelspec": {
   "display_name": "Python 3 (ipykernel)",
   "language": "python",
   "name": "python3"
  },
  "language_info": {
   "codemirror_mode": {
    "name": "ipython",
    "version": 3
   },
   "file_extension": ".py",
   "mimetype": "text/x-python",
   "name": "python",
   "nbconvert_exporter": "python",
   "pygments_lexer": "ipython3",
   "version": "3.9.7"
  }
 },
 "nbformat": 4,
 "nbformat_minor": 5
}
